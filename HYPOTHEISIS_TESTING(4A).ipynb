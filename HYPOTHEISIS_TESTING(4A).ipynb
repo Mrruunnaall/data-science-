{
  "nbformat": 4,
  "nbformat_minor": 0,
  "metadata": {
    "colab": {
      "provenance": []
    },
    "kernelspec": {
      "name": "python3",
      "display_name": "Python 3"
    },
    "language_info": {
      "name": "python"
    }
  },
  "cells": [
    {
      "cell_type": "code",
      "execution_count": null,
      "metadata": {
        "id": "09pxr6IeaUYm"
      },
      "outputs": [],
      "source": [
        "import math\n",
        "from scipy.stats import norm"
      ]
    },
    {
      "cell_type": "code",
      "source": [
        "TASK 1 HYPOTHESIS TESTING"
      ],
      "metadata": {
        "id": "x_oiewD2OrCO"
      },
      "execution_count": null,
      "outputs": []
    },
    {
      "cell_type": "code",
      "source": [
        "# Given data\n",
        "sample_mean = 3050  # Sample mean weekly cost in Rs.\n",
        "theoretical_cost_model = 1000 + 5 * 600  # Theoretical mean weekly cost for X = 600 units\n",
        "sigma = 5 * 25  # Standard deviation (σ)\n",
        "sample_size = 25  # Sample size (n)\n",
        "alpha = 0.05  # Significance level"
      ],
      "metadata": {
        "id": "QVximId6ae3z"
      },
      "execution_count": null,
      "outputs": []
    },
    {
      "cell_type": "code",
      "source": [
        "import scipy.stats as stats\n",
        "\n",
        "# Given data\n",
        "sample_mean = 3050\n",
        "theoretical_cost_model = 1000 + 5 * 600\n",
        "sigma = 5 * 25\n",
        "sample_size = 25\n",
        "alpha = 0.05\n",
        "\n",
        "# Calculate test statistic\n",
        "z_score = (sample_mean - theoretical_cost_model) / (sigma / (sample_size ** 0.5))\n",
        "\n",
        "# Critical value\n",
        "critical_value = stats.norm.ppf(1 - alpha)\n",
        "\n",
        "# Output\n",
        "print(z_score > critical_value)\n"
      ],
      "metadata": {
        "colab": {
          "base_uri": "https://localhost:8080/"
        },
        "id": "vSziKdzRPjKP",
        "outputId": "d4e0f407-6a2e-4052-b5b6-5166745fe258"
      },
      "execution_count": null,
      "outputs": [
        {
          "output_type": "stream",
          "name": "stdout",
          "text": [
            "False\n"
          ]
        }
      ]
    },
    {
      "cell_type": "code",
      "source": [
        "TASK 2 CALCULATE TEST STATICTICS"
      ],
      "metadata": {
        "id": "VnJjWheFOyL4"
      },
      "execution_count": null,
      "outputs": []
    },
    {
      "cell_type": "code",
      "source": [
        "# Given data\n",
        "sample_mean = 3050\n",
        "theoretical_cost_model = 1000 + 5 * 600\n",
        "sigma = 5 * 25\n",
        "sample_size = 25\n",
        "\n",
        "# Calculate the standard error and test statistic\n",
        "standard_error = sigma / math.sqrt(sample_size)\n",
        "t_statistic = (sample_mean - theoretical_cost_model) / standard_error\n",
        "standard_error, t_statistic"
      ],
      "metadata": {
        "colab": {
          "base_uri": "https://localhost:8080/"
        },
        "id": "N0YWho6wPsFz",
        "outputId": "5466ea17-2d01-441a-8f7d-e9b9228e8354"
      },
      "execution_count": null,
      "outputs": [
        {
          "output_type": "execute_result",
          "data": {
            "text/plain": [
              "(25.0, -38.0)"
            ]
          },
          "metadata": {},
          "execution_count": 19
        }
      ]
    },
    {
      "cell_type": "code",
      "source": [
        "DETERMINING CRITICAL VALUE"
      ],
      "metadata": {
        "id": "BcYca5ZRQEcv"
      },
      "execution_count": null,
      "outputs": []
    },
    {
      "cell_type": "code",
      "source": [
        "from scipy.stats import norm\n",
        "\n",
        "# Given significance level\n",
        "alpha = 0.05\n",
        "\n",
        "# Determine the critical value for a one-tailed test\n",
        "critical_value = norm.ppf(1 - alpha)\n",
        "critical_value\n"
      ],
      "metadata": {
        "colab": {
          "base_uri": "https://localhost:8080/"
        },
        "id": "19ZEMA72QTgl",
        "outputId": "65f2ced9-933a-4db0-9bbc-b9ced19b92e3"
      },
      "execution_count": null,
      "outputs": [
        {
          "output_type": "execute_result",
          "data": {
            "text/plain": [
              "1.6448536269514722"
            ]
          },
          "metadata": {},
          "execution_count": 20
        }
      ]
    },
    {
      "cell_type": "code",
      "source": [
        "import math\n",
        "from scipy.stats import norm\n",
        "\n",
        "# Given data\n",
        "sample_mean = 3050\n",
        "theoretical_cost_model = 1000 + 5 * 600\n",
        "sigma = 5 * 25\n",
        "sample_size = 25\n",
        "alpha = 0.05\n",
        "\n",
        "# Calculate the standard error and test statistic\n",
        "standard_error = sigma / math.sqrt(sample_size)\n",
        "t_statistic = (sample_mean - theoretical_cost_model) / standard_error\n",
        "\n",
        "# Determine the critical value for a one-tailed test\n",
        "critical_value = norm.ppf(1 - alpha)\n",
        "\n",
        "# Output results\n",
        "print(\"Theoretical Mean Weekly Cost (μ):\", theoretical_cost_model)\n",
        "print(\"Sample Mean Weekly Cost (x̄):\", sample_mean)\n",
        "print(\"Standard Error:\", standard_error)\n",
        "print(\"Test Statistic (t):\", t_statistic)\n",
        "print(\"Critical Value:\", critical_value)\n"
      ],
      "metadata": {
        "colab": {
          "base_uri": "https://localhost:8080/"
        },
        "id": "6EayT-d6Qnnk",
        "outputId": "6d9c72d9-0259-4324-ac21-96ab52acc4f3"
      },
      "execution_count": null,
      "outputs": [
        {
          "output_type": "stream",
          "name": "stdout",
          "text": [
            "Theoretical Mean Weekly Cost (μ): 4000\n",
            "Sample Mean Weekly Cost (x̄): 3050\n",
            "Standard Error: 25.0\n",
            "Test Statistic (t): -38.0\n",
            "Critical Value: 1.6448536269514722\n"
          ]
        }
      ]
    },
    {
      "cell_type": "code",
      "source": [
        "CALCULATE TEST STATICTIC"
      ],
      "metadata": {
        "id": "IKn7DUAgO-N5"
      },
      "execution_count": null,
      "outputs": []
    },
    {
      "cell_type": "code",
      "source": [
        "import math\n",
        "from scipy.stats import norm\n",
        "\n",
        "# Given data\n",
        "sample_mean = 3050\n",
        "theoretical_cost_model = 1000 + 5 * 600\n",
        "sigma = 5 * 25\n",
        "sample_size = 25\n",
        "alpha = 0.05\n",
        "\n",
        "# Calculate the standard error and test statistic\n",
        "standard_error = sigma / math.sqrt(sample_size)\n",
        "t_statistic = (sample_mean - theoretical_cost_model) / standard_error\n",
        "\n",
        "# Determine the critical value for a one-tailed test\n",
        "critical_value = norm.ppf(1 - alpha)\n",
        "\n",
        "# Output results\n",
        "print(\"Theoretical Mean Weekly Cost (μ):\", theoretical_cost_model)\n",
        "print(\"Sample Mean Weekly Cost (x̄):\", sample_mean)\n",
        "print(\"Standard Error:\", standard_error)\n",
        "print(\"Test Statistic (t):\", t_statistic)\n",
        "print(\"Critical Value:\", critical_value)\n",
        "\n",
        "# Make a decision\n",
        "if t_statistic > critical_value:\n",
        "    print(\"Reject the null hypothesis H₀: There is strong evidence that the weekly operating costs are higher than the model suggests.\")\n",
        "else:\n",
        "    print(\"Fail to reject the null hypothesis H₀: There is not enough evidence to suggest that the weekly operating costs are higher than the model suggests.\")\n"
      ],
      "metadata": {
        "colab": {
          "base_uri": "https://localhost:8080/"
        },
        "id": "cSC5QCgIQy5v",
        "outputId": "37f4d514-9ff6-4c66-ebe1-e2d2f2d502f7"
      },
      "execution_count": null,
      "outputs": [
        {
          "output_type": "stream",
          "name": "stdout",
          "text": [
            "Theoretical Mean Weekly Cost (μ): 4000\n",
            "Sample Mean Weekly Cost (x̄): 3050\n",
            "Standard Error: 25.0\n",
            "Test Statistic (t): -38.0\n",
            "Critical Value: 1.6448536269514722\n",
            "Fail to reject the null hypothesis H₀: There is not enough evidence to suggest that the weekly operating costs are higher than the model suggests.\n"
          ]
        }
      ]
    },
    {
      "cell_type": "code",
      "source": [
        "Conclusion:\n",
        "\n",
        "Based on the hypothesis test, the calculated test statistic is significantly lower than the critical value.\n",
        "This strongly supports rejecting the null hypothesis.\n",
        "Consequently, there is robust evidence to affirm the restaurant owners' claim that their weekly operating costs are higher than what the theoretical cost model predicts."
      ],
      "metadata": {
        "id": "2R3CMHP2PKj0"
      },
      "execution_count": null,
      "outputs": []
    }
  ]
}