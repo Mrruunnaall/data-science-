{
  "nbformat": 4,
  "nbformat_minor": 0,
  "metadata": {
    "colab": {
      "provenance": []
    },
    "kernelspec": {
      "name": "python3",
      "display_name": "Python 3"
    },
    "language_info": {
      "name": "python"
    }
  },
  "cells": [
    {
      "cell_type": "code",
      "execution_count": null,
      "metadata": {
        "id": "bxuthN0XInsC"
      },
      "outputs": [],
      "source": [
        "import numpy as np\n",
        "import scipy.stats as stats"
      ]
    },
    {
      "cell_type": "code",
      "source": [
        "# Sample data\n",
        "data = np.array([1.13, 1.55, 1.43, 0.92, 1.25, 1.36, 1.32, 0.85, 1.07, 1.48, 1.20, 1.33, 1.18, 1.22, 1.29])\n",
        "data"
      ],
      "metadata": {
        "colab": {
          "base_uri": "https://localhost:8080/"
        },
        "id": "YDylScPnIrkh",
        "outputId": "fd4d84ae-a986-4181-b451-7fd6d7d69950"
      },
      "execution_count": null,
      "outputs": [
        {
          "output_type": "execute_result",
          "data": {
            "text/plain": [
              "array([1.13, 1.55, 1.43, 0.92, 1.25, 1.36, 1.32, 0.85, 1.07, 1.48, 1.2 ,\n",
              "       1.33, 1.18, 1.22, 1.29])"
            ]
          },
          "metadata": {},
          "execution_count": 2
        }
      ]
    },
    {
      "cell_type": "code",
      "source": [
        "# Sample statistics\n",
        "n = len(data)\n",
        "sample_mean = np.mean(data)\n",
        "sample_std = np.std(data, ddof=1)  # Sample standard deviation\n",
        "population_std = 0.2  # Known population standard deviation\n",
        "n,sample_mean, sample_std"
      ],
      "metadata": {
        "colab": {
          "base_uri": "https://localhost:8080/"
        },
        "id": "_E_eG2BsIvLa",
        "outputId": "747d2c6f-d44d-4beb-9ad8-56b08ac59072"
      },
      "execution_count": null,
      "outputs": [
        {
          "output_type": "execute_result",
          "data": {
            "text/plain": [
              "(15, 1.2386666666666666, 0.19316412956959936)"
            ]
          },
          "metadata": {},
          "execution_count": 3
        }
      ]
    },
    {
      "cell_type": "code",
      "source": [
        "# Scenario A: Using Sample Standard Deviation\n",
        "# t-distribution critical value\n",
        "alpha = 0.01  # 99% confidence interval\n",
        "t_critical = stats.t.ppf(1 - alpha / 2, df=n - 1)\n",
        "t_critical"
      ],
      "metadata": {
        "colab": {
          "base_uri": "https://localhost:8080/"
        },
        "id": "BOuG3XeqJDZg",
        "outputId": "22476354-1e63-4846-bc2d-06e71da8a245"
      },
      "execution_count": null,
      "outputs": [
        {
          "output_type": "execute_result",
          "data": {
            "text/plain": [
              "2.976842734370834"
            ]
          },
          "metadata": {},
          "execution_count": 4
        }
      ]
    },
    {
      "cell_type": "code",
      "source": [
        "# Margin of error\n",
        "margin_of_error_t = t_critical * (sample_std / np.sqrt(n))\n",
        "margin_of_error_t"
      ],
      "metadata": {
        "colab": {
          "base_uri": "https://localhost:8080/"
        },
        "id": "HQO1W3ULJSTf",
        "outputId": "af192bf3-4551-46a1-d549-764b1fd81c82"
      },
      "execution_count": null,
      "outputs": [
        {
          "output_type": "execute_result",
          "data": {
            "text/plain": [
              "0.14846932822817596"
            ]
          },
          "metadata": {},
          "execution_count": 5
        }
      ]
    },
    {
      "cell_type": "code",
      "source": [
        "# Confidence interval\n",
        "ci_lower_t = sample_mean - margin_of_error_t\n",
        "ci_upper_t = sample_mean + margin_of_error_t\n",
        "ci_lower_t, ci_upper_t"
      ],
      "metadata": {
        "colab": {
          "base_uri": "https://localhost:8080/"
        },
        "id": "TeeoEX22JgT0",
        "outputId": "545b2105-fe72-441a-d128-506ce473578f"
      },
      "execution_count": null,
      "outputs": [
        {
          "output_type": "execute_result",
          "data": {
            "text/plain": [
              "(1.0901973384384906, 1.3871359948948425)"
            ]
          },
          "metadata": {},
          "execution_count": 6
        }
      ]
    },
    {
      "cell_type": "code",
      "source": [
        "print(f\"99% Confidence Interval using sample standard deviation: ({ci_lower_t:.3f}, {ci_upper_t:.3f})\")"
      ],
      "metadata": {
        "colab": {
          "base_uri": "https://localhost:8080/"
        },
        "id": "crNyB6soJ1Dh",
        "outputId": "a676bd49-844d-4ea2-eaab-9e693b51b61b"
      },
      "execution_count": null,
      "outputs": [
        {
          "output_type": "stream",
          "name": "stdout",
          "text": [
            "99% Confidence Interval using sample standard deviation: (1.090, 1.387)\n"
          ]
        }
      ]
    },
    {
      "cell_type": "code",
      "source": [
        "# Scenario B: Using Known Population Standard Deviation\n",
        "# z-distribution critical value\n",
        "z_critical = stats.norm.ppf(1 - alpha / 2)\n",
        "z_critical"
      ],
      "metadata": {
        "colab": {
          "base_uri": "https://localhost:8080/"
        },
        "id": "AN9spKwXKCrb",
        "outputId": "0987b146-f690-438d-814a-3ecdcd1089fe"
      },
      "execution_count": null,
      "outputs": [
        {
          "output_type": "execute_result",
          "data": {
            "text/plain": [
              "2.5758293035489004"
            ]
          },
          "metadata": {},
          "execution_count": 8
        }
      ]
    },
    {
      "cell_type": "code",
      "source": [
        "# Margin of error\n",
        "margin_of_error_z = z_critical * (population_std / np.sqrt(n))\n",
        "margin_of_error_z"
      ],
      "metadata": {
        "colab": {
          "base_uri": "https://localhost:8080/"
        },
        "id": "Pho-mOOkKLKq",
        "outputId": "43423d6b-e395-4e47-a4d2-98d0615aa259"
      },
      "execution_count": null,
      "outputs": [
        {
          "output_type": "execute_result",
          "data": {
            "text/plain": [
              "0.13301525327090588"
            ]
          },
          "metadata": {},
          "execution_count": 9
        }
      ]
    },
    {
      "cell_type": "code",
      "source": [
        "# Confidence interval\n",
        "ci_lower_z = sample_mean - margin_of_error_z\n",
        "ci_upper_z = sample_mean + margin_of_error_z\n",
        "ci_lower_z, ci_upper_z"
      ],
      "metadata": {
        "colab": {
          "base_uri": "https://localhost:8080/"
        },
        "id": "csIN5S1ZKOwr",
        "outputId": "446032ea-89f3-48cb-8d61-29b191222a5d"
      },
      "execution_count": null,
      "outputs": [
        {
          "output_type": "execute_result",
          "data": {
            "text/plain": [
              "(1.1056514133957607, 1.3716819199375725)"
            ]
          },
          "metadata": {},
          "execution_count": 10
        }
      ]
    },
    {
      "cell_type": "code",
      "source": [
        "print(f\"99% Confidence Interval using known population standard deviation: ({ci_lower_z:.3f}, {ci_upper_z:.3f})\")"
      ],
      "metadata": {
        "colab": {
          "base_uri": "https://localhost:8080/"
        },
        "id": "7DOI0dqcKY1v",
        "outputId": "225678ac-d00d-4a00-a6bd-a17f0f127334"
      },
      "execution_count": null,
      "outputs": [
        {
          "output_type": "stream",
          "name": "stdout",
          "text": [
            "99% Confidence Interval using known population standard deviation: (1.106, 1.372)\n"
          ]
        }
      ]
    }
  ]
}