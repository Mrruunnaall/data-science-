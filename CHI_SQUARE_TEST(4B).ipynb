{
  "nbformat": 4,
  "nbformat_minor": 0,
  "metadata": {
    "colab": {
      "provenance": []
    },
    "kernelspec": {
      "name": "python3",
      "display_name": "Python 3"
    },
    "language_info": {
      "name": "python"
    }
  },
  "cells": [
    {
      "cell_type": "code",
      "execution_count": null,
      "metadata": {
        "id": "_tI2NYugNwsl"
      },
      "outputs": [],
      "source": [
        "import scipy.stats as stats\n",
        "import numpy as np"
      ]
    },
    {
      "cell_type": "code",
      "source": [
        "# Data Provided in the Contingency Table\n",
        "observed_data = np.array([[50, 70],\n",
        "                          [80, 100],\n",
        "                          [60, 90],\n",
        "                          [30, 50],\n",
        "                          [20, 50]])"
      ],
      "metadata": {
        "id": "JnbnoMRJOEkH"
      },
      "execution_count": null,
      "outputs": []
    },
    {
      "cell_type": "code",
      "source": [
        "1.STATE THE HYPOTHESES"
      ],
      "metadata": {
        "id": "diofdV-ySK6l"
      },
      "execution_count": null,
      "outputs": []
    },
    {
      "cell_type": "code",
      "source": [
        "# Step 1: State the Hypotheses\n",
        "# H0: There is no association between the type of device (Smart Thermostat vs. Smart Light) and customer satisfaction level.\n",
        "# H1: There is an association between the type of device (Smart Thermostat vs. Smart Light) and customer satisfaction level."
      ],
      "metadata": {
        "id": "iw9zpB3nOEgy"
      },
      "execution_count": null,
      "outputs": []
    },
    {
      "cell_type": "code",
      "source": [
        "COMPUTE CHI SQUARE STATISTIC"
      ],
      "metadata": {
        "id": "BLxDfdqrSQan"
      },
      "execution_count": null,
      "outputs": []
    },
    {
      "cell_type": "code",
      "source": [
        "import scipy.stats as stats\n",
        "\n",
        "# Example observed data (replace with your actual data)\n",
        "observed_data = [[30, 10], [20, 40]]  # Replace with your actual contingency table\n",
        "\n",
        "# Compute Chi-Square statistic\n",
        "chi2_statistic, p_value, dof, expected_data = stats.chi2_contingency(observed_data)\n",
        "\n",
        "# Output results\n",
        "print(\"Chi-Square Statistic:\", chi2_statistic)\n",
        "print(\"P-Value:\", p_value)\n",
        "print(\"Degrees of Freedom:\", dof)\n",
        "print(\"Expected Frequencies:\\n\", expected_data)\n"
      ],
      "metadata": {
        "colab": {
          "base_uri": "https://localhost:8080/"
        },
        "id": "8XY9NtEnTs4q",
        "outputId": "e3beadd8-4001-4fb3-9d04-e6b6d3845efd"
      },
      "execution_count": null,
      "outputs": [
        {
          "output_type": "stream",
          "name": "stdout",
          "text": [
            "Chi-Square Statistic: 15.041666666666666\n",
            "P-Value: 0.00010516355403363098\n",
            "Degrees of Freedom: 1\n",
            "Expected Frequencies:\n",
            " [[20. 20.]\n",
            " [30. 30.]]\n"
          ]
        }
      ]
    },
    {
      "cell_type": "code",
      "source": [
        "Determine the Critical Value:\n",
        "\n",
        "Using a significance level (alpha) of 0.05 and the degrees of freedom (which is the sample size minus 1)."
      ],
      "metadata": {
        "id": "CAt1Ff9KSgOT"
      },
      "execution_count": null,
      "outputs": []
    },
    {
      "cell_type": "code",
      "source": [
        "# Step 3: Determine the Critical Value\n",
        "# Degrees of freedom (dof) = (number of rows - 1) * (number of columns - 1)\n",
        "# Significance level (alpha) = 0.05\n",
        "alpha = 0.05\n",
        "critical_value = stats.chi2.ppf(1 - alpha, dof)\n",
        "critical_value"
      ],
      "metadata": {
        "colab": {
          "base_uri": "https://localhost:8080/"
        },
        "id": "VwnYzlOROEZ_",
        "outputId": "a4f071ea-9291-464c-aceb-2fd94441170a"
      },
      "execution_count": null,
      "outputs": [
        {
          "output_type": "execute_result",
          "data": {
            "text/plain": [
              "9.487729036781154"
            ]
          },
          "metadata": {},
          "execution_count": 4
        }
      ]
    },
    {
      "cell_type": "code",
      "source": [
        "4.MAKE THE DECISION AND INTERPRET THE RESULTS"
      ],
      "metadata": {
        "id": "wl9g0MS6SmA4"
      },
      "execution_count": null,
      "outputs": []
    },
    {
      "cell_type": "code",
      "source": [
        "# Step 4: Make a Decision\n",
        "decision = \"Reject the null hypothesis\" if chi2_statistic > critical_value else \"Fail to reject the null hypothesis\""
      ],
      "metadata": {
        "id": "eRhaHkFUOETJ"
      },
      "execution_count": null,
      "outputs": []
    },
    {
      "cell_type": "code",
      "source": [
        "Submission Guidelines:\n",
        "\n",
        "- Submit a detailed report of your analysis as a Python file, including all steps outlined in the assignment tasks."
      ],
      "metadata": {
        "id": "DdLQDOu9SxW-"
      },
      "execution_count": null,
      "outputs": []
    },
    {
      "cell_type": "code",
      "source": [
        "# Report\n",
        "print(f\"Chi-Square Statistic: {chi2_statistic}\")\n",
        "print(f\"Degrees of Freedom: {dof}\")\n",
        "print(f\"Critical Value: {critical_value}\")\n",
        "print(f\"P-Value: {p_value}\")\n",
        "print(f\"Decision: {decision}\")"
      ],
      "metadata": {
        "colab": {
          "base_uri": "https://localhost:8080/"
        },
        "id": "H0UPNQBHPAdj",
        "outputId": "765d3348-a337-427f-87bd-1561d1de37aa"
      },
      "execution_count": null,
      "outputs": [
        {
          "output_type": "stream",
          "name": "stdout",
          "text": [
            "Chi-Square Statistic: 5.638227513227513\n",
            "Degrees of Freedom: 4\n",
            "Critical Value: 9.487729036781154\n",
            "P-Value: 0.22784371130697179\n",
            "Decision: Fail to reject the null hypothesis\n"
          ]
        }
      ]
    },
    {
      "cell_type": "code",
      "source": [],
      "metadata": {
        "id": "7dZX_PyLUBN1"
      },
      "execution_count": null,
      "outputs": []
    },
    {
      "cell_type": "code",
      "source": [
        "# Interpretation\n",
        "if chi2_statistic > critical_value:\n",
        "    print(\"There is a significant association between the type of device purchased and the customer's satisfaction level.\")\n",
        "else:\n",
        "    print(\"There is no significant association between the type of device purchased and the customer's satisfaction level.\")"
      ],
      "metadata": {
        "colab": {
          "base_uri": "https://localhost:8080/"
        },
        "id": "ms5XPkHTPG3a",
        "outputId": "a460f1f4-86a9-44e7-e2fb-f713366a0994"
      },
      "execution_count": null,
      "outputs": [
        {
          "output_type": "stream",
          "name": "stdout",
          "text": [
            "There is no significant association between the type of device purchased and the customer's satisfaction level.\n"
          ]
        }
      ]
    },
    {
      "cell_type": "code",
      "source": [
        "Steps:\n",
        "\n",
        "1.Compute Chi-Square Statistic:\n",
        "Use `scipy.stats.chi2_contingency()` to calculate the Chi-Square statistic, p-value, degrees of freedom, and expected frequencies.\n",
        "\n",
        "2.Determine Critical Value:\n",
        "Calculate the critical value using `stats.chi2.ppf(1 - alpha, dof)`, where `alpha = 0.05` and `dof` is the degrees of freedom.\n",
        "\n",
        "3.Make a Decision:\n",
        "Compare the Chi-Square statistic with the critical value to decide whether to reject the null hypothesis.\n",
        "\n",
        "Hypotheses\n",
        "\n",
        "-H0 (Null Hypothesis):** No association between device type and customer satisfaction.\n",
        "-H1 (Alternative Hypothesis):** An association exists between device type and customer satisfaction.\n"
      ],
      "metadata": {
        "id": "v7Pjpx-mS7df"
      },
      "execution_count": null,
      "outputs": []
    },
    {
      "cell_type": "code",
      "source": [
        "Chi-Square Statistic:5.64\n",
        "Critical Value (at α = 0.05):9.49\n",
        "Decision:Do not reject the null hypothesis.\n",
        "Conclusion:\n",
        "\n",
        "Since the Chi-Square statistic (5.64) is less than the critical value (9.49), we do not reject the null hypothesis.\n",
        "This indicates that there is not enough evidence to suggest a significant association between the type of smart home device purchased\n",
        "(Smart Thermostats vs. Smart Lights) and customer satisfaction levels.)"
      ],
      "metadata": {
        "id": "YrL5rI8YTT9C"
      },
      "execution_count": null,
      "outputs": []
    }
  ]
}