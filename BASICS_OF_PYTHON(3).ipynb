{
  "nbformat": 4,
  "nbformat_minor": 0,
  "metadata": {
    "colab": {
      "provenance": []
    },
    "kernelspec": {
      "name": "python3",
      "display_name": "Python 3"
    },
    "language_info": {
      "name": "python"
    }
  },
  "cells": [
    {
      "cell_type": "code",
      "execution_count": null,
      "metadata": {
        "id": "sIPp8v6RhXFI"
      },
      "outputs": [],
      "source": [
        "#import required packages\n",
        "import pandas as pd\n",
        "import numpy as np"
      ]
    },
    {
      "cell_type": "code",
      "source": [
        "#Excercise 1\n",
        "#code to check whether a number is prime number or not\n",
        "num = int(input(\"Enter a number: \"))\n",
        "is_prime = num > 1 and all(num % i != 0 for i in range(2, num))\n",
        "print(f\"{num} is {'a prime' if is_prime else 'not a prime'} number.\")\n"
      ],
      "metadata": {
        "colab": {
          "base_uri": "https://localhost:8080/"
        },
        "id": "p3oc4D_1hcQs",
        "outputId": "64040c77-9ec6-45a3-b73c-658d993238b5"
      },
      "execution_count": null,
      "outputs": [
        {
          "output_type": "stream",
          "name": "stdout",
          "text": [
            "Enter a number: 54\n",
            "54 is not a prime number.\n"
          ]
        }
      ]
    },
    {
      "cell_type": "code",
      "source": [
        "#Excercise 2\n",
        "import random\n",
        "a = random.randint(1, 10)\n",
        "b = random.randint(1, 10)\n",
        "answer = int(input(f\"What is {a} * {b}? \"))\n",
        "if answer == a * b:\n",
        "    print(\"Correct!\")\n",
        "else:\n",
        "    print(\"Incorrect!\")\n"
      ],
      "metadata": {
        "colab": {
          "base_uri": "https://localhost:8080/"
        },
        "id": "ce8r39AGhh9X",
        "outputId": "218ed6ae-9638-4882-9ce8-2cb4f511eb97"
      },
      "execution_count": null,
      "outputs": [
        {
          "output_type": "stream",
          "name": "stdout",
          "text": [
            "What is 7 * 9? 34\n",
            "Incorrect!\n"
          ]
        }
      ]
    },
    {
      "cell_type": "code",
      "source": [
        "#Excercise 3\n",
        "for i in range(100, 201):\n",
        "    if i % 2 == 0:\n",
        "        square = i * i\n",
        "        print(i, \"squared is\", square)\n"
      ],
      "metadata": {
        "colab": {
          "base_uri": "https://localhost:8080/"
        },
        "id": "wYSBOLnVjLOh",
        "outputId": "afcee669-e78e-4ef9-94b6-32dd98e680a6"
      },
      "execution_count": null,
      "outputs": [
        {
          "output_type": "stream",
          "name": "stdout",
          "text": [
            "100 squared is 10000\n",
            "102 squared is 10404\n",
            "104 squared is 10816\n",
            "106 squared is 11236\n",
            "108 squared is 11664\n",
            "110 squared is 12100\n",
            "112 squared is 12544\n",
            "114 squared is 12996\n",
            "116 squared is 13456\n",
            "118 squared is 13924\n",
            "120 squared is 14400\n",
            "122 squared is 14884\n",
            "124 squared is 15376\n",
            "126 squared is 15876\n",
            "128 squared is 16384\n",
            "130 squared is 16900\n",
            "132 squared is 17424\n",
            "134 squared is 17956\n",
            "136 squared is 18496\n",
            "138 squared is 19044\n",
            "140 squared is 19600\n",
            "142 squared is 20164\n",
            "144 squared is 20736\n",
            "146 squared is 21316\n",
            "148 squared is 21904\n",
            "150 squared is 22500\n",
            "152 squared is 23104\n",
            "154 squared is 23716\n",
            "156 squared is 24336\n",
            "158 squared is 24964\n",
            "160 squared is 25600\n",
            "162 squared is 26244\n",
            "164 squared is 26896\n",
            "166 squared is 27556\n",
            "168 squared is 28224\n",
            "170 squared is 28900\n",
            "172 squared is 29584\n",
            "174 squared is 30276\n",
            "176 squared is 30976\n",
            "178 squared is 31684\n",
            "180 squared is 32400\n",
            "182 squared is 33124\n",
            "184 squared is 33856\n",
            "186 squared is 34596\n",
            "188 squared is 35344\n",
            "190 squared is 36100\n",
            "192 squared is 36864\n",
            "194 squared is 37636\n",
            "196 squared is 38416\n",
            "198 squared is 39204\n",
            "200 squared is 40000\n"
          ]
        }
      ]
    },
    {
      "cell_type": "code",
      "source": [
        "#Excercise 4,own example\n",
        "input_text = \"TODAY IS A VERY BEAUTIFUL DAY, SUN SHINES BEAUTIFULLY TODAY\"\n",
        "\n",
        "words = input_text.split()\n",
        "word_count = {}\n",
        "\n",
        "for word in words:\n",
        "    if word in word_count:\n",
        "        word_count[word] += 1\n",
        "    else:\n",
        "        word_count[word] = 1\n",
        "\n",
        "for word, count in word_count.items():\n",
        "    print(f\"'{word}': {count}\")\n"
      ],
      "metadata": {
        "colab": {
          "base_uri": "https://localhost:8080/"
        },
        "id": "VINvqoDRjMUf",
        "outputId": "7532ea0e-b6ad-4d8c-bdc4-124aa17af43e"
      },
      "execution_count": null,
      "outputs": [
        {
          "output_type": "stream",
          "name": "stdout",
          "text": [
            "'TODAY': 2\n",
            "'IS': 1\n",
            "'A': 1\n",
            "'VERY': 1\n",
            "'BEAUTIFUL': 1\n",
            "'DAY,': 1\n",
            "'SUN': 1\n",
            "'SHINES': 1\n",
            "'BEAUTIFULLY': 1\n"
          ]
        }
      ]
    },
    {
      "cell_type": "code",
      "source": [
        "#Excercise 5,example provided\n",
        "def is_palindrome(s):\n",
        "    s = ''.join(c.lower() for c in s if c.isalnum())\n",
        "    return s == s[::-1]\n",
        "\n",
        "# Example usage\n",
        "input_text = \"racecar\"\n",
        "print(is_palindrome(input_text))  # Expected Output: True\n"
      ],
      "metadata": {
        "colab": {
          "base_uri": "https://localhost:8080/"
        },
        "id": "LZUhM6ntkXqd",
        "outputId": "ceab8015-4a28-4185-db6a-69fc62e2683a"
      },
      "execution_count": null,
      "outputs": [
        {
          "output_type": "stream",
          "name": "stdout",
          "text": [
            "True\n"
          ]
        }
      ]
    },
    {
      "cell_type": "code",
      "source": [
        "#Excercise 5,own example\n",
        "def is_palindrome(s):\n",
        "    s = ''.join(c.lower() for c in s if c.isalnum())\n",
        "    return s == s[::-1]\n",
        "\n",
        "# Example usage\n",
        "input_text = \"A man, a plan, a canal, Panama\"\n",
        "print(is_palindrome(input_text))  # Expected Output: True\n"
      ],
      "metadata": {
        "colab": {
          "base_uri": "https://localhost:8080/"
        },
        "id": "D-LOZlErk1IM",
        "outputId": "769cf5fb-af31-4048-d2c1-3d10860a55c2"
      },
      "execution_count": null,
      "outputs": [
        {
          "output_type": "stream",
          "name": "stdout",
          "text": [
            "True\n"
          ]
        }
      ]
    }
  ]
}